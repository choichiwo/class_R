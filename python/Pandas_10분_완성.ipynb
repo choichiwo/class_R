{
  "nbformat": 4,
  "nbformat_minor": 0,
  "metadata": {
    "colab": {
      "name": "Pandas 10분 완성.ipynb",
      "provenance": [],
      "authorship_tag": "ABX9TyPGXcIoQdvjy4HX1EJmpum/"
    },
    "kernelspec": {
      "name": "python3",
      "display_name": "Python 3"
    }
  },
  "cells": [
    {
      "cell_type": "markdown",
      "metadata": {
        "id": "mJQARk343_me"
      },
      "source": [
        "# 1. Object Creation (객체 생성)\n"
      ]
    },
    {
      "cell_type": "code",
      "metadata": {
        "id": "e5fkSRCM2TvQ"
      },
      "source": [
        "import pandas as pd\n",
        "import numpy as np\n",
        "import matplotlib.pyplot as plt"
      ],
      "execution_count": 4,
      "outputs": []
    },
    {
      "cell_type": "code",
      "metadata": {
        "id": "qLNi_QSv2lic",
        "outputId": "a218bfff-445b-4287-b572-b9448d25bc3e",
        "colab": {
          "base_uri": "https://localhost:8080/"
        }
      },
      "source": [
        "temp = pd.Series([1,3,5,np.nan, 6,8])\n",
        "temp"
      ],
      "execution_count": 3,
      "outputs": [
        {
          "output_type": "execute_result",
          "data": {
            "text/plain": [
              "0    1.0\n",
              "1    3.0\n",
              "2    5.0\n",
              "3    NaN\n",
              "4    6.0\n",
              "5    8.0\n",
              "dtype: float64"
            ]
          },
          "metadata": {
            "tags": []
          },
          "execution_count": 3
        }
      ]
    },
    {
      "cell_type": "markdown",
      "metadata": {
        "id": "HojelYL_2wR9"
      },
      "source": [
        ""
      ]
    }
  ]
}